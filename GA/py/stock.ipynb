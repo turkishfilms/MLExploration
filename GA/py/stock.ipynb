{
 "cells": [
  {
   "cell_type": "code",
   "execution_count": 1,
   "metadata": {},
   "outputs": [],
   "source": [
    "import pandas as pd\n",
    "import numpy as np\n",
    "import json\n",
    "import requests\n",
    "from api_keys import stockorg_key "
   ]
  },
  {
   "cell_type": "code",
   "execution_count": 37,
   "metadata": {},
   "outputs": [],
   "source": [
    "base_url = r\"https://api.stockdata.org/v1/data/eod?\"\n",
    "symbols = [\"AAPL\"]\n",
    "url = base_url + f\"symbols={symbols[0]}&api_token={stockorg_key}&date_from=2000\""
   ]
  },
  {
   "cell_type": "code",
   "execution_count": 38,
   "metadata": {},
   "outputs": [],
   "source": [
    "req = requests.get(url)\n"
   ]
  },
  {
   "cell_type": "code",
   "execution_count": 50,
   "metadata": {},
   "outputs": [],
   "source": [
    "res = json.loads(req.content)"
   ]
  },
  {
   "cell_type": "code",
   "execution_count": 58,
   "metadata": {},
   "outputs": [],
   "source": [
    "stock_data = pd.DataFrame(res[\"data\"])"
   ]
  },
  {
   "cell_type": "code",
   "execution_count": 40,
   "metadata": {},
   "outputs": [
    {
     "data": {
      "text/plain": [
       "<matplotlib.axes._subplots.AxesSubplot at 0x19c5753e5c8>"
      ]
     },
     "execution_count": 40,
     "metadata": {},
     "output_type": "execute_result"
    },
    {
     "data": {
      "image/png": "[encoded data removed]",
      "text/plain": [
       "<Figure size 432x288 with 1 Axes>"
      ]
     },
     "metadata": {
      "needs_background": "light"
     },
     "output_type": "display_data"
    }
   ],
   "source": [
    "stock_data.plot(kind=\"scatter\", x=\"date\", y=\"close\")"
   ]
  },
  {
   "cell_type": "code",
   "execution_count": 66,
   "metadata": {},
   "outputs": [],
   "source": [
    "indicators = [\"MACD\",\"RSI\",\"VWAP\",\"12EMA\",\"26EMA\",\"50EMA\",\"200EMA\",\"12SMA\",\"26SMA\",\"50SMA\",\"200SMA\"]"
   ]
  },
  {
   "cell_type": "code",
   "execution_count": 74,
   "metadata": {},
   "outputs": [
    {
     "data": {
      "text/html": [
       "<div>\n",
       "<style scoped>\n",
       "    .dataframe tbody tr th:only-of-type {\n",
       "        vertical-align: middle;\n",
       "    }\n",
       "\n",
       "    .dataframe tbody tr th {\n",
       "        vertical-align: top;\n",
       "    }\n",
       "\n",
       "    .dataframe thead th {\n",
       "        text-align: right;\n",
       "    }\n",
       "</style>\n",
       "<table border=\"1\" class=\"dataframe\">\n",
       "  <thead>\n",
       "    <tr style=\"text-align: right;\">\n",
       "      <th></th>\n",
       "      <th>date</th>\n",
       "      <th>open</th>\n",
       "      <th>high</th>\n",
       "      <th>low</th>\n",
       "      <th>close</th>\n",
       "      <th>volume</th>\n",
       "      <th>MACD</th>\n",
       "      <th>RSI</th>\n",
       "      <th>VWAP</th>\n",
       "      <th>12EMA</th>\n",
       "      <th>26EMA</th>\n",
       "      <th>50EMA</th>\n",
       "      <th>200EMA</th>\n",
       "      <th>12SMA</th>\n",
       "      <th>26SMA</th>\n",
       "      <th>50SMA</th>\n",
       "      <th>200SMA</th>\n",
       "    </tr>\n",
       "  </thead>\n",
       "  <tbody>\n",
       "    <tr>\n",
       "      <th>0</th>\n",
       "      <td>2023-02-17</td>\n",
       "      <td>152.35</td>\n",
       "      <td>153.00</td>\n",
       "      <td>150.85</td>\n",
       "      <td>152.55</td>\n",
       "      <td>59144118.0</td>\n",
       "      <td>NaN</td>\n",
       "      <td>NaN</td>\n",
       "      <td>NaN</td>\n",
       "      <td>NaN</td>\n",
       "      <td>NaN</td>\n",
       "      <td>NaN</td>\n",
       "      <td>NaN</td>\n",
       "      <td>NaN</td>\n",
       "      <td>NaN</td>\n",
       "      <td>NaN</td>\n",
       "      <td>NaN</td>\n",
       "    </tr>\n",
       "    <tr>\n",
       "      <th>1</th>\n",
       "      <td>2023-02-16</td>\n",
       "      <td>153.51</td>\n",
       "      <td>156.33</td>\n",
       "      <td>153.35</td>\n",
       "      <td>153.71</td>\n",
       "      <td>68167942.0</td>\n",
       "      <td>NaN</td>\n",
       "      <td>NaN</td>\n",
       "      <td>NaN</td>\n",
       "      <td>NaN</td>\n",
       "      <td>NaN</td>\n",
       "      <td>NaN</td>\n",
       "      <td>NaN</td>\n",
       "      <td>NaN</td>\n",
       "      <td>NaN</td>\n",
       "      <td>NaN</td>\n",
       "      <td>NaN</td>\n",
       "    </tr>\n",
       "    <tr>\n",
       "      <th>2</th>\n",
       "      <td>2023-02-15</td>\n",
       "      <td>153.11</td>\n",
       "      <td>155.50</td>\n",
       "      <td>152.88</td>\n",
       "      <td>155.33</td>\n",
       "      <td>65669252.0</td>\n",
       "      <td>NaN</td>\n",
       "      <td>NaN</td>\n",
       "      <td>NaN</td>\n",
       "      <td>NaN</td>\n",
       "      <td>NaN</td>\n",
       "      <td>NaN</td>\n",
       "      <td>NaN</td>\n",
       "      <td>NaN</td>\n",
       "      <td>NaN</td>\n",
       "      <td>NaN</td>\n",
       "      <td>NaN</td>\n",
       "    </tr>\n",
       "    <tr>\n",
       "      <th>3</th>\n",
       "      <td>2023-02-14</td>\n",
       "      <td>152.12</td>\n",
       "      <td>153.77</td>\n",
       "      <td>150.86</td>\n",
       "      <td>153.20</td>\n",
       "      <td>61707573.0</td>\n",
       "      <td>NaN</td>\n",
       "      <td>NaN</td>\n",
       "      <td>NaN</td>\n",
       "      <td>NaN</td>\n",
       "      <td>NaN</td>\n",
       "      <td>NaN</td>\n",
       "      <td>NaN</td>\n",
       "      <td>NaN</td>\n",
       "      <td>NaN</td>\n",
       "      <td>NaN</td>\n",
       "      <td>NaN</td>\n",
       "    </tr>\n",
       "    <tr>\n",
       "      <th>4</th>\n",
       "      <td>2023-02-13</td>\n",
       "      <td>150.95</td>\n",
       "      <td>154.26</td>\n",
       "      <td>150.92</td>\n",
       "      <td>153.85</td>\n",
       "      <td>62199013.0</td>\n",
       "      <td>NaN</td>\n",
       "      <td>NaN</td>\n",
       "      <td>NaN</td>\n",
       "      <td>NaN</td>\n",
       "      <td>NaN</td>\n",
       "      <td>NaN</td>\n",
       "      <td>NaN</td>\n",
       "      <td>NaN</td>\n",
       "      <td>NaN</td>\n",
       "      <td>NaN</td>\n",
       "      <td>NaN</td>\n",
       "    </tr>\n",
       "  </tbody>\n",
       "</table>\n",
       "</div>"
      ],
      "text/plain": [
       "         date    open    high     low   close      volume MACD  RSI VWAP  \\\n",
       "0  2023-02-17  152.35  153.00  150.85  152.55  59144118.0  NaN  NaN  NaN   \n",
       "1  2023-02-16  153.51  156.33  153.35  153.71  68167942.0  NaN  NaN  NaN   \n",
       "2  2023-02-15  153.11  155.50  152.88  155.33  65669252.0  NaN  NaN  NaN   \n",
       "3  2023-02-14  152.12  153.77  150.86  153.20  61707573.0  NaN  NaN  NaN   \n",
       "4  2023-02-13  150.95  154.26  150.92  153.85  62199013.0  NaN  NaN  NaN   \n",
       "\n",
       "  12EMA 26EMA 50EMA 200EMA 12SMA 26SMA 50SMA 200SMA  \n",
       "0   NaN   NaN   NaN    NaN   NaN   NaN   NaN    NaN  \n",
       "1   NaN   NaN   NaN    NaN   NaN   NaN   NaN    NaN  \n",
       "2   NaN   NaN   NaN    NaN   NaN   NaN   NaN    NaN  \n",
       "3   NaN   NaN   NaN    NaN   NaN   NaN   NaN    NaN  \n",
       "4   NaN   NaN   NaN    NaN   NaN   NaN   NaN    NaN  "
      ]
     },
     "execution_count": 74,
     "metadata": {},
     "output_type": "execute_result"
    }
   ],
   "source": [
    "# stock_data[\"MACD\"] = \"\"\n",
    "more_stock_data = pd.concat([stock_data,pd.DataFrame(columns=list(indicators))])\n",
    "more_stock_data[\"date\"] = more_stock_data[\"date\"].str[:10] \n",
    "more_stock_data.head()\n"
   ]
  },
  {
   "cell_type": "code",
   "execution_count": null,
   "metadata": {},
   "outputs": [],
   "source": [
    "# end = date\n",
    "def ema(df,period, end,mult):\n",
    "    closingprice = df[] end[closing]#here\n",
    "    multiplier =  mult/(1+period) \n",
    "    return closing * multiplier + ema(df,period,end-1,mult) * (1-multiplier)\n",
    "\n",
    "more_stock_data[\"12EMA\"] = "
   ]
  }
 ],
 "metadata": {
  "kernelspec": {
   "display_name": "PythonData",
   "language": "python",
   "name": "python3"
  },
  "language_info": {
   "codemirror_mode": {
    "name": "ipython",
    "version": 3
   },
   "file_extension": ".py",
   "mimetype": "text/x-python",
   "name": "python",
   "nbconvert_exporter": "python",
   "pygments_lexer": "ipython3",
   "version": "3.7.7"
  },
  "orig_nbformat": 4,
  "vscode": {
   "interpreter": {
    "hash": "4904c410c1507775547b44abbbc3629ef487f941be4e53d4b3f1c576a9d2c5a0"
   }
  }
 },
 "nbformat": 4,
 "nbformat_minor": 2
}
